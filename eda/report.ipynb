{
 "cells": [
  {
   "cell_type": "code",
   "execution_count": null,
   "metadata": {},
   "outputs": [],
   "source": [
    "import pandas as pd\n",
    "\n",
    "coin_name_df =pd.read_csv('../document/coin_download_link.csv')\n",
    "coin_name_df.head()"
   ]
  },
  {
   "cell_type": "code",
   "execution_count": null,
   "metadata": {},
   "outputs": [],
   "source": []
  },
  {
   "cell_type": "code",
   "execution_count": 15,
   "metadata": {},
   "outputs": [
    {
     "name": "stdout",
     "output_type": "stream",
     "text": [
      "Wall time: 74 ms\n"
     ]
    },
    {
     "data": {
      "text/html": [
       "<div>\n",
       "<style scoped>\n",
       "    .dataframe tbody tr th:only-of-type {\n",
       "        vertical-align: middle;\n",
       "    }\n",
       "\n",
       "    .dataframe tbody tr th {\n",
       "        vertical-align: top;\n",
       "    }\n",
       "\n",
       "    .dataframe thead th {\n",
       "        text-align: right;\n",
       "    }\n",
       "</style>\n",
       "<table border=\"1\" class=\"dataframe\">\n",
       "  <thead>\n",
       "    <tr style=\"text-align: right;\">\n",
       "      <th></th>\n",
       "      <th>coin_name</th>\n",
       "      <th>txt</th>\n",
       "    </tr>\n",
       "  </thead>\n",
       "  <tbody>\n",
       "    <tr>\n",
       "      <th>0</th>\n",
       "      <td>bitcoin</td>\n",
       "      <td>\\n    please make 'bitcoin' cryptocurrency fin...</td>\n",
       "    </tr>\n",
       "    <tr>\n",
       "      <th>1</th>\n",
       "      <td>ethereum</td>\n",
       "      <td>\\n    please make 'ethereum' cryptocurrency fi...</td>\n",
       "    </tr>\n",
       "    <tr>\n",
       "      <th>2</th>\n",
       "      <td>tether</td>\n",
       "      <td>\\n    please make 'tether' cryptocurrency fina...</td>\n",
       "    </tr>\n",
       "    <tr>\n",
       "      <th>3</th>\n",
       "      <td>bnb</td>\n",
       "      <td>\\n    please make 'bnb' cryptocurrency financi...</td>\n",
       "    </tr>\n",
       "    <tr>\n",
       "      <th>4</th>\n",
       "      <td>usd-coin</td>\n",
       "      <td>\\n    please make 'usd-coin' cryptocurrency fi...</td>\n",
       "    </tr>\n",
       "  </tbody>\n",
       "</table>\n",
       "</div>"
      ],
      "text/plain": [
       "  coin_name                                                txt\n",
       "0   bitcoin  \\n    please make 'bitcoin' cryptocurrency fin...\n",
       "1  ethereum  \\n    please make 'ethereum' cryptocurrency fi...\n",
       "2    tether  \\n    please make 'tether' cryptocurrency fina...\n",
       "3       bnb  \\n    please make 'bnb' cryptocurrency financi...\n",
       "4  usd-coin  \\n    please make 'usd-coin' cryptocurrency fi..."
      ]
     },
     "execution_count": 15,
     "metadata": {},
     "output_type": "execute_result"
    }
   ],
   "source": [
    "%%time\n",
    "\n",
    "text_df = pd.DataFrame()\n",
    "\n",
    "for index, value in coin_name_df.iterrows():\n",
    "    coin_name = value['coin_name']\n",
    "        \n",
    "    text = f'''\n",
    "    please make '{coin_name}' cryptocurrency financial papers for traders around 1~2 a4 pages.\n",
    "\n",
    "    Writing condition is \n",
    "    - \"__today__\" is variable, and it is the US date time and format is month day, year (week number + suffixed)\n",
    "    - want to automatically write today's date in output, i don't want to write it myself\n",
    "\n",
    "    and content is about \n",
    "\n",
    "    Title: '{coin_name}' financial report on \"__today__\"\n",
    "\n",
    "    1. what is '{coin_name}'\n",
    "\n",
    "    2. benefits of Trading with '{coin_name}'\n",
    "\n",
    "    3. Financial Summary\n",
    "    - Need to add the below information in bullet form\n",
    "    - Total Circulating Supply: XXXX USDT (as per '{coin_name}''s official reports) \n",
    "    - Market Capitalization: XXXX USD (based on the market price at the time of the report)\n",
    "\n",
    "    4. Forecasting next week's price with A.I. model\n",
    "    - This contents will be written by me, so just add name and let content blank\n",
    "    \n",
    "    Please note that the following section is for informational purposes only and does not constitute financial advice. The content for this section will be provided separately, and you are responsible for conducting your own analysis and making informed trading decisions.\n",
    "\n",
    "    It is important to remember that trading cryptocurrencies involves risks, and past performance is not indicative of future results. The information provided in this report is based on the current market conditions and available data, and it is crucial to seek professional advice and perform due diligence before engaging in any trading activities.\n",
    "    '''\n",
    "\n",
    "    row = {'coin_name': coin_name, 'txt': text}\n",
    "    text_df = pd.concat([text_df, pd.DataFrame(row, index=[0])], ignore_index=True)\n",
    "\n",
    "text_df.head()\n"
   ]
  },
  {
   "cell_type": "code",
   "execution_count": 20,
   "metadata": {},
   "outputs": [],
   "source": [
    "#text_df.to_csv('../document/coin_text_template.csv')"
   ]
  },
  {
   "cell_type": "code",
   "execution_count": null,
   "metadata": {},
   "outputs": [],
   "source": []
  }
 ],
 "metadata": {
  "kernelspec": {
   "display_name": "base",
   "language": "python",
   "name": "python3"
  },
  "language_info": {
   "codemirror_mode": {
    "name": "ipython",
    "version": 3
   },
   "file_extension": ".py",
   "mimetype": "text/x-python",
   "name": "python",
   "nbconvert_exporter": "python",
   "pygments_lexer": "ipython3",
   "version": "3.8.5"
  },
  "orig_nbformat": 4
 },
 "nbformat": 4,
 "nbformat_minor": 2
}
