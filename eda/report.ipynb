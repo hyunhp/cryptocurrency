{
 "cells": [
  {
   "cell_type": "code",
   "execution_count": 1,
   "metadata": {},
   "outputs": [
    {
     "data": {
      "text/plain": [
       "\"\\nautomated report by chatgpt\\n\\nplease make 'tether' cryptocurrency financial papers for traders around 1~2 a4 pages \\nand content is about \\n\\n1. what is' tether' \\n2. benefits of Trading with 'Tether' \\n3. Financial Summary\\n- Need to add the below information in bullet form\\n- Total Circulating Supply: XXXX USDT (as per Tether's official reports) \\n- Market Capitalization: XXXX USD (based on the market price at the time of the report)\\n4. Forecasting next week's price with A.I. model\\n- This contents will be written by me, so just add name and let content blank\\n \\nand title should be 'Tether' financial report on {__today__} \\n- {__today__} is variable, and it is the US date time and format is month day, year (week number + suffixed)\\n\""
      ]
     },
     "execution_count": 1,
     "metadata": {},
     "output_type": "execute_result"
    }
   ],
   "source": [
    "'''\n",
    "automated report by chatgpt\n",
    "\n",
    "please make 'tether' cryptocurrency financial papers for traders around 1~2 a4 pages \n",
    "and content is about \n",
    "\n",
    "1. what is' tether' \n",
    "2. benefits of Trading with 'Tether' \n",
    "3. Financial Summary\n",
    "- Need to add the below information in bullet form\n",
    "- Total Circulating Supply: XXXX USDT (as per Tether's official reports) \n",
    "- Market Capitalization: XXXX USD (based on the market price at the time of the report)\n",
    "4. Forecasting next week's price with A.I. model\n",
    "- This contents will be written by me, so just add name and let content blank\n",
    " \n",
    "and title should be 'Tether' financial report on {__today__} \n",
    "- {__today__} is variable, and it is the US date time and format is month day, year (week number + suffixed)\n",
    "'''"
   ]
  },
  {
   "cell_type": "code",
   "execution_count": 6,
   "metadata": {},
   "outputs": [],
   "source": [
    "coin_name = 'tether'\n",
    "\n",
    "text = f'''\n",
    "please make '{coin_name}' cryptocurrency financial papers for traders around 1~2 a4 pages.\n",
    "\n",
    "Writing condition is \n",
    "- \"__today__\" is variable, and it is the US date time and format is month day, year (week number + suffixed)\n",
    "- want to automatically write today's date in output, i don't want to write it myself\n",
    "\n",
    "and content is about \n",
    "\n",
    "Title: '{coin_name}' financial report on \"__today__\"\n",
    "\n",
    "1. what is '{coin_name}'\n",
    "\n",
    "2. benefits of Trading with '{coin_name}'\n",
    "\n",
    "3. Financial Summary\n",
    "- Need to add the below information in bullet form\n",
    "- Total Circulating Supply: XXXX USDT (as per '{coin_name}''s official reports) \n",
    "- Market Capitalization: XXXX USD (based on the market price at the time of the report)\n",
    "\n",
    "4. Forecasting next week's price with A.I. model\n",
    "- This contents will be written by me, so just add name and let content blank\n",
    " \n",
    "Please note that the following section is for informational purposes only and does not constitute financial advice. The content for this section will be provided separately, and you are responsible for conducting your own analysis and making informed trading decisions.\n",
    "\n",
    "It is important to remember that trading cryptocurrencies involves risks, and past performance is not indicative of future results. The information provided in this report is based on the current market conditions and available data, and it is crucial to seek professional advice and perform due diligence before engaging in any trading activities.\n",
    "'''\n"
   ]
  },
  {
   "cell_type": "code",
   "execution_count": 7,
   "metadata": {},
   "outputs": [
    {
     "name": "stdout",
     "output_type": "stream",
     "text": [
      "\n",
      "please make 'tether' cryptocurrency financial papers for traders around 1~2 a4 pages.\n",
      "\n",
      "Writing condition is \n",
      "- \"__today__\" is variable, and it is the US date time and format is month day, year (week number + suffixed)\n",
      "- want to automatically write today's date in output, i don't want to write it myself\n",
      "\n",
      "and content is about \n",
      "\n",
      "Title: 'tether' financial report on \"__today__\"\n",
      "\n",
      "1. what is 'tether'\n",
      "\n",
      "2. benefits of Trading with 'tether'\n",
      "\n",
      "3. Financial Summary\n",
      "- Need to add the below information in bullet form\n",
      "- Total Circulating Supply: XXXX USDT (as per 'tether''s official reports) \n",
      "- Market Capitalization: XXXX USD (based on the market price at the time of the report)\n",
      "\n",
      "4. Forecasting next week's price with A.I. model\n",
      "- This contents will be written by me, so just add name and let content blank\n",
      " \n",
      "Please note that the following section is for informational purposes only and does not constitute financial advice. \n",
      "The content for this section will be provided separately, and you are responsible for conducting your own analysis and making informed trading decisions.\n",
      "\n",
      "It is important to remember that trading cryptocurrencies involves risks, and past performance is not indicative of future results. \n",
      "The information provided in this report is based on the current market conditions and available data, \n",
      "and it is crucial to seek professional advice and perform due diligence before engaging in any trading activities.\n",
      "\n"
     ]
    }
   ],
   "source": [
    "print(text)"
   ]
  },
  {
   "cell_type": "code",
   "execution_count": null,
   "metadata": {},
   "outputs": [],
   "source": []
  }
 ],
 "metadata": {
  "kernelspec": {
   "display_name": "base",
   "language": "python",
   "name": "python3"
  },
  "language_info": {
   "codemirror_mode": {
    "name": "ipython",
    "version": 3
   },
   "file_extension": ".py",
   "mimetype": "text/x-python",
   "name": "python",
   "nbconvert_exporter": "python",
   "pygments_lexer": "ipython3",
   "version": "3.8.5"
  },
  "orig_nbformat": 4
 },
 "nbformat": 4,
 "nbformat_minor": 2
}
