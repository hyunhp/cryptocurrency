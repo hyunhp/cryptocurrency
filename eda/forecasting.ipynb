{
 "cells": [
  {
   "cell_type": "code",
   "execution_count": 2,
   "metadata": {},
   "outputs": [],
   "source": [
    "# PROJECT : Predicting Future Price in the cryptocurrency\n",
    "# RESEARCHER : Hyun Ho Park\n",
    "# Created At : 2023-05-29\n",
    "# Updated At : 2023-05-29"
   ]
  },
  {
   "cell_type": "code",
   "execution_count": null,
   "metadata": {},
   "outputs": [],
   "source": [
    "'''\n",
    "Need to make function\n",
    "0. Get coin list\n",
    "1. Crawl the dataset from website\n",
    "2. Apply prophet to return future prediction\n",
    "3. Make predicted documents\n",
    "'''"
   ]
  },
  {
   "cell_type": "code",
   "execution_count": 3,
   "metadata": {},
   "outputs": [
    {
     "name": "stderr",
     "output_type": "stream",
     "text": [
      "/Library/Frameworks/Python.framework/Versions/3.10/lib/python3.10/site-packages/tqdm/auto.py:22: TqdmWarning: IProgress not found. Please update jupyter and ipywidgets. See https://ipywidgets.readthedocs.io/en/stable/user_install.html\n",
      "  from .autonotebook import tqdm as notebook_tqdm\n"
     ]
    },
    {
     "name": "stdout",
     "output_type": "stream",
     "text": [
      "DONE.\n"
     ]
    }
   ],
   "source": [
    "'''\n",
    "Import library\n",
    "'''\n",
    "\n",
    "import pandas as pd\n",
    "import numpy as np\n",
    "from datetime import datetime\n",
    "\n",
    "'''\n",
    "Prophet\n",
    "'''\n",
    "from prophet import Prophet\n",
    "\n",
    "import warnings\n",
    "warnings.filterwarnings('ignore')\n",
    "\n",
    "import os\n",
    "import matplotlib.pyplot as plt\n",
    "\n",
    "from tqdm import tqdm\n",
    "\n",
    "import gc\n",
    "\n",
    "print(f'DONE.')"
   ]
  },
  {
   "cell_type": "code",
   "execution_count": 4,
   "metadata": {},
   "outputs": [],
   "source": [
    "data_df = pd.read_csv('./99. csv/btc-usd-max.csv')"
   ]
  },
  {
   "cell_type": "code",
   "execution_count": 5,
   "metadata": {},
   "outputs": [
    {
     "data": {
      "text/html": [
       "<div>\n",
       "<style scoped>\n",
       "    .dataframe tbody tr th:only-of-type {\n",
       "        vertical-align: middle;\n",
       "    }\n",
       "\n",
       "    .dataframe tbody tr th {\n",
       "        vertical-align: top;\n",
       "    }\n",
       "\n",
       "    .dataframe thead th {\n",
       "        text-align: right;\n",
       "    }\n",
       "</style>\n",
       "<table border=\"1\" class=\"dataframe\">\n",
       "  <thead>\n",
       "    <tr style=\"text-align: right;\">\n",
       "      <th></th>\n",
       "      <th>snapped_at</th>\n",
       "      <th>price</th>\n",
       "      <th>market_cap</th>\n",
       "      <th>total_volume</th>\n",
       "    </tr>\n",
       "  </thead>\n",
       "  <tbody>\n",
       "    <tr>\n",
       "      <th>0</th>\n",
       "      <td>2013-04-28 00:00:00 UTC</td>\n",
       "      <td>135.30</td>\n",
       "      <td>1.500518e+09</td>\n",
       "      <td>0.0</td>\n",
       "    </tr>\n",
       "    <tr>\n",
       "      <th>1</th>\n",
       "      <td>2013-04-29 00:00:00 UTC</td>\n",
       "      <td>141.96</td>\n",
       "      <td>1.575032e+09</td>\n",
       "      <td>0.0</td>\n",
       "    </tr>\n",
       "    <tr>\n",
       "      <th>2</th>\n",
       "      <td>2013-04-30 00:00:00 UTC</td>\n",
       "      <td>135.30</td>\n",
       "      <td>1.501657e+09</td>\n",
       "      <td>0.0</td>\n",
       "    </tr>\n",
       "    <tr>\n",
       "      <th>3</th>\n",
       "      <td>2013-05-01 00:00:00 UTC</td>\n",
       "      <td>117.00</td>\n",
       "      <td>1.298952e+09</td>\n",
       "      <td>0.0</td>\n",
       "    </tr>\n",
       "    <tr>\n",
       "      <th>4</th>\n",
       "      <td>2013-05-02 00:00:00 UTC</td>\n",
       "      <td>103.43</td>\n",
       "      <td>1.148668e+09</td>\n",
       "      <td>0.0</td>\n",
       "    </tr>\n",
       "  </tbody>\n",
       "</table>\n",
       "</div>"
      ],
      "text/plain": [
       "                snapped_at   price    market_cap  total_volume\n",
       "0  2013-04-28 00:00:00 UTC  135.30  1.500518e+09           0.0\n",
       "1  2013-04-29 00:00:00 UTC  141.96  1.575032e+09           0.0\n",
       "2  2013-04-30 00:00:00 UTC  135.30  1.501657e+09           0.0\n",
       "3  2013-05-01 00:00:00 UTC  117.00  1.298952e+09           0.0\n",
       "4  2013-05-02 00:00:00 UTC  103.43  1.148668e+09           0.0"
      ]
     },
     "execution_count": 5,
     "metadata": {},
     "output_type": "execute_result"
    }
   ],
   "source": [
    "data_df.head()"
   ]
  },
  {
   "cell_type": "code",
   "execution_count": 6,
   "metadata": {},
   "outputs": [],
   "source": [
    "data_df['date'] = data_df[\"snapped_at\"].apply(lambda x : datetime.strptime(x, '%Y-%m-%d %H:%M:%S %Z'))\n",
    "data_df['date'] = data_df['date'].apply(lambda x :x.strftime('%Y-%m-%d'))"
   ]
  },
  {
   "cell_type": "code",
   "execution_count": null,
   "metadata": {},
   "outputs": [],
   "source": []
  },
  {
   "cell_type": "code",
   "execution_count": null,
   "metadata": {},
   "outputs": [],
   "source": []
  },
  {
   "cell_type": "code",
   "execution_count": null,
   "metadata": {},
   "outputs": [],
   "source": []
  },
  {
   "cell_type": "code",
   "execution_count": 7,
   "metadata": {},
   "outputs": [
    {
     "name": "stderr",
     "output_type": "stream",
     "text": [
      "15:23:51 - cmdstanpy - INFO - Chain [1] start processing\n",
      "15:23:53 - cmdstanpy - INFO - Chain [1] done processing\n"
     ]
    },
    {
     "name": "stdout",
     "output_type": "stream",
     "text": [
      "FINISHED......\n",
      "\n"
     ]
    }
   ],
   "source": [
    "import pandas as pd\n",
    "from datetime import datetime\n",
    "import gc\n",
    "\n",
    "train_df = data_df.iloc[-90:].copy()\n",
    "\n",
    "target_df = train_df[['date', 'price']].rename(columns={\n",
    "    'date': 'ds',\n",
    "    'price': 'y'\n",
    "})\n",
    "target_df['floor'] = 15000\n",
    "\n",
    "# Convert 'ds' column to datetime\n",
    "target_df['ds'] = pd.to_datetime(target_df['ds'])\n",
    "\n",
    "future_day = 7\n",
    "\n",
    "last_day = target_df['ds'].iloc[-1]\n",
    "\n",
    "model = Prophet(daily_seasonality=True, \n",
    "                interval_width = 0.8,\n",
    "                changepoint_range = 0.8,\n",
    "                changepoint_prior_scale=0.3, seasonality_mode='multiplicative')\n",
    "model.fit(target_df)\n",
    "\n",
    "future = model.make_future_dataframe(periods=future_day)\n",
    "future['floor'] = 15000\n",
    "\n",
    "temp_df = model.predict(future)\n",
    "\n",
    "save_df = pd.merge(target_df, temp_df[['ds', 'yhat']], on='ds', how='outer')\n",
    "gc.collect()\n",
    "\n",
    "print('FINISHED......\\n')\n"
   ]
  },
  {
   "cell_type": "code",
   "execution_count": 10,
   "metadata": {},
   "outputs": [
    {
     "data": {
      "text/plain": [
       "<AxesSubplot:>"
      ]
     },
     "execution_count": 10,
     "metadata": {},
     "output_type": "execute_result"
    },
    {
     "data": {
      "image/png": "[encoded data removed]",
      "text/plain": [
       "<Figure size 640x480 with 1 Axes>"
      ]
     },
     "metadata": {},
     "output_type": "display_data"
    }
   ],
   "source": [
    "save_df.plot()"
   ]
  },
  {
   "cell_type": "code",
   "execution_count": null,
   "metadata": {},
   "outputs": [],
   "source": []
  },
  {
   "cell_type": "code",
   "execution_count": null,
   "metadata": {},
   "outputs": [],
   "source": []
  },
  {
   "cell_type": "code",
   "execution_count": null,
   "metadata": {},
   "outputs": [],
   "source": []
  },
  {
   "cell_type": "code",
   "execution_count": null,
   "metadata": {},
   "outputs": [],
   "source": []
  },
  {
   "cell_type": "code",
   "execution_count": null,
   "metadata": {},
   "outputs": [],
   "source": []
  }
 ],
 "metadata": {
  "kernelspec": {
   "display_name": "Python 3",
   "language": "python",
   "name": "python3"
  },
  "language_info": {
   "codemirror_mode": {
    "name": "ipython",
    "version": 3
   },
   "file_extension": ".py",
   "mimetype": "text/x-python",
   "name": "python",
   "nbconvert_exporter": "python",
   "pygments_lexer": "ipython3",
   "version": "3.10.5"
  },
  "orig_nbformat": 4
 },
 "nbformat": 4,
 "nbformat_minor": 2
}
