{
 "cells": [
  {
   "cell_type": "code",
   "execution_count": 1,
   "metadata": {},
   "outputs": [],
   "source": [
    "# ONE TIME BATCH - LIST\n",
    "url = \"https://www.coingecko.com/?page=\"\n",
    "\n",
    "import requests\n",
    "from bs4 import BeautifulSoup"
   ]
  },
  {
   "cell_type": "code",
   "execution_count": 2,
   "metadata": {},
   "outputs": [
    {
     "data": {
      "text/plain": [
       "['99. old', 'coin.docx', 'down file.ipynb', 'forecasting.ipynb']"
      ]
     },
     "execution_count": 2,
     "metadata": {},
     "output_type": "execute_result"
    }
   ],
   "source": [
    "import os\n",
    "os.listdir()"
   ]
  },
  {
   "cell_type": "code",
   "execution_count": 9,
   "metadata": {},
   "outputs": [
    {
     "data": {
      "text/plain": [
       "False"
      ]
     },
     "execution_count": 9,
     "metadata": {},
     "output_type": "execute_result"
    }
   ],
   "source": [
    "save_path = './historical data/'\n",
    "if os.path.exists(save_path):\n",
    "    os.mkdir(save_path)\n"
   ]
  },
  {
   "cell_type": "code",
   "execution_count": 15,
   "metadata": {},
   "outputs": [
    {
     "data": {
      "text/plain": [
       "'c:\\\\Users\\\\HYUN\\\\Documents\\\\Side project\\\\[크롤링]\\\\[Cryptocurrency]./historical data/'"
      ]
     },
     "execution_count": 15,
     "metadata": {},
     "output_type": "execute_result"
    }
   ],
   "source": [
    "os.getcwd() + download_path"
   ]
  },
  {
   "cell_type": "code",
   "execution_count": null,
   "metadata": {},
   "outputs": [],
   "source": []
  },
  {
   "cell_type": "code",
   "execution_count": 21,
   "metadata": {},
   "outputs": [
    {
     "name": "stdout",
     "output_type": "stream",
     "text": [
      "done\n"
     ]
    }
   ],
   "source": [
    "download_path = './historical data/'\n",
    "\n",
    "if not os.path.exists(download_path):\n",
    "    os.mkdir(download_path)\n",
    "    print(f'done')"
   ]
  },
  {
   "cell_type": "code",
   "execution_count": null,
   "metadata": {},
   "outputs": [],
   "source": []
  },
  {
   "cell_type": "code",
   "execution_count": 22,
   "metadata": {},
   "outputs": [
    {
     "name": "stdout",
     "output_type": "stream",
     "text": [
      "DONE....\n"
     ]
    }
   ],
   "source": [
    "from selenium.webdriver.common.keys import Keys\n",
    "from selenium.webdriver.common.by import By\n",
    "\n",
    "from selenium.webdriver.support import expected_conditions as EC\n",
    "from selenium.webdriver.support.ui import WebDriverWait\n",
    "\n",
    "from selenium import webdriver\n",
    "import time\n",
    "\n",
    "# https://www.coingecko.com/\n",
    "url = \"https://www.coingecko.com/en/coins/ethereum/historical_data\"\n",
    "\n",
    "# Set the desired download path\n",
    "download_path = './historical data/'\n",
    "if not os.path.exists(download_path):\n",
    "    os.mkdir(download_path)\n",
    "\n",
    "# Configure the Selenium webdriver\n",
    "options = webdriver.ChromeOptions()\n",
    "options.add_argument(\"--blink-settings=imagesEnabled=false\")\n",
    "options.add_argument(\"--window-size=1920,1080\")\n",
    "\n",
    "# Set the download preferences\n",
    "prefs = {\n",
    "    \"download.default_directory\": download_path,\n",
    "    \"download.prompt_for_download\": False,\n",
    "    \"download.directory_upgrade\": True,\n",
    "    \"safebrowsing.enabled\": True\n",
    "}\n",
    "options.add_experimental_option(\"prefs\", prefs)\n",
    "\n",
    "# Create the webdriver with the configured options\n",
    "driver = webdriver.Chrome(options=options)\n",
    "driver.get(url)\n",
    "time.sleep(1)\n",
    "\n",
    "# Perform a scroll action to reach the bottom of the page\n",
    "body = driver.find_element(By.XPATH, \"//body\")\n",
    "body.send_keys(Keys.END)\n",
    "time.sleep(1)\n",
    "\n",
    "# Wait for the element to be clickable\n",
    "wait = WebDriverWait(driver, 30)\n",
    "element = wait.until(EC.element_to_be_clickable((By.XPATH, \"/html/body/div[3]/main/div[3]/div/div[1]/div[1]/div[2]\")))\n",
    "\n",
    "# Click the element\n",
    "element.click()\n",
    "time.sleep(1)\n",
    "\n",
    "# download \n",
    "download_path = wait.until(\n",
    "    EC.element_to_be_clickable((By.XPATH,\n",
    "                                 \"/html/body/div[3]/main/div[3]/div/div[1]/div[1]/div[2]/div/div[2]/div/div/span[2]\")))\n",
    "download_path.click()\n",
    "time.sleep(1)\n",
    "\n",
    "# Close the Selenium webdriver\n",
    "\n",
    "print(f'DONE....')\n",
    "driver.quit()\n"
   ]
  },
  {
   "cell_type": "code",
   "execution_count": null,
   "metadata": {},
   "outputs": [],
   "source": []
  }
 ],
 "metadata": {
  "kernelspec": {
   "display_name": "Python 3",
   "language": "python",
   "name": "python3"
  },
  "language_info": {
   "codemirror_mode": {
    "name": "ipython",
    "version": 3
   },
   "file_extension": ".py",
   "mimetype": "text/x-python",
   "name": "python",
   "nbconvert_exporter": "python",
   "pygments_lexer": "ipython3",
   "version": "3.8.5"
  },
  "orig_nbformat": 4
 },
 "nbformat": 4,
 "nbformat_minor": 2
}
